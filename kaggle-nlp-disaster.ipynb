{
 "cells": [
  {
   "cell_type": "markdown",
   "id": "afdbdeb4",
   "metadata": {},
   "source": [
    "This notebook is my take on the Kaggle competition on Natural Language Processing (NLP) to predict which Tweets are about real disasters and which one’s aren’t. I'm joining this competition while following a Coursera course on Deep Learning, so I am restricted to use a Recurrent Neural Network as classifier.\n",
    "\n",
    "First I will explore the available data in order to be able to form a master plan for achieving a high score in the competition."
   ]
  },
  {
   "cell_type": "code",
   "execution_count": 12,
   "id": "d4e9c3d7",
   "metadata": {},
   "outputs": [
    {
     "data": {
      "text/html": [
       "<div>\n",
       "<style scoped>\n",
       "    .dataframe tbody tr th:only-of-type {\n",
       "        vertical-align: middle;\n",
       "    }\n",
       "\n",
       "    .dataframe tbody tr th {\n",
       "        vertical-align: top;\n",
       "    }\n",
       "\n",
       "    .dataframe thead th {\n",
       "        text-align: right;\n",
       "    }\n",
       "</style>\n",
       "<table border=\"1\" class=\"dataframe\">\n",
       "  <thead>\n",
       "    <tr style=\"text-align: right;\">\n",
       "      <th></th>\n",
       "      <th>id</th>\n",
       "      <th>keyword</th>\n",
       "      <th>location</th>\n",
       "      <th>text</th>\n",
       "      <th>target</th>\n",
       "    </tr>\n",
       "  </thead>\n",
       "  <tbody>\n",
       "    <tr>\n",
       "      <th>5750</th>\n",
       "      <td>8210</td>\n",
       "      <td>riot</td>\n",
       "      <td>Detroit, MI</td>\n",
       "      <td>To All The Meat-Loving Feminists Of The World ...</td>\n",
       "      <td>0</td>\n",
       "    </tr>\n",
       "    <tr>\n",
       "      <th>7095</th>\n",
       "      <td>10164</td>\n",
       "      <td>violent%20storm</td>\n",
       "      <td>Watertown, Mass.</td>\n",
       "      <td>Violent Storm Causes Damage Flooding in Watert...</td>\n",
       "      <td>1</td>\n",
       "    </tr>\n",
       "    <tr>\n",
       "      <th>1330</th>\n",
       "      <td>1921</td>\n",
       "      <td>burning%20buildings</td>\n",
       "      <td>Sacramento, CA</td>\n",
       "      <td>Killing Black Babies at Planned Parenthood whe...</td>\n",
       "      <td>1</td>\n",
       "    </tr>\n",
       "    <tr>\n",
       "      <th>6424</th>\n",
       "      <td>9185</td>\n",
       "      <td>suicide%20bomber</td>\n",
       "      <td>nigeria</td>\n",
       "      <td>Suicide Bomber Kills More Than a Dozen in Saud...</td>\n",
       "      <td>1</td>\n",
       "    </tr>\n",
       "    <tr>\n",
       "      <th>2182</th>\n",
       "      <td>3126</td>\n",
       "      <td>debris</td>\n",
       "      <td>NaN</td>\n",
       "      <td>#??? #?? #??? #??? MH370: Aircraft debris foun...</td>\n",
       "      <td>1</td>\n",
       "    </tr>\n",
       "    <tr>\n",
       "      <th>6283</th>\n",
       "      <td>8974</td>\n",
       "      <td>storm</td>\n",
       "      <td>pittsboro</td>\n",
       "      <td>Ready for this storm</td>\n",
       "      <td>1</td>\n",
       "    </tr>\n",
       "    <tr>\n",
       "      <th>5385</th>\n",
       "      <td>7685</td>\n",
       "      <td>panic</td>\n",
       "      <td>NaN</td>\n",
       "      <td>#dream #magic The #linden method lite version ...</td>\n",
       "      <td>0</td>\n",
       "    </tr>\n",
       "    <tr>\n",
       "      <th>5536</th>\n",
       "      <td>7897</td>\n",
       "      <td>radiation%20emergency</td>\n",
       "      <td>NaN</td>\n",
       "      <td>I liked a @YouTube video http://t.co/V57NUgmGK...</td>\n",
       "      <td>1</td>\n",
       "    </tr>\n",
       "    <tr>\n",
       "      <th>4726</th>\n",
       "      <td>6722</td>\n",
       "      <td>lava</td>\n",
       "      <td>Jakarta</td>\n",
       "      <td>@YoungHeroesID Lava Blast &amp;amp; Power Red @die...</td>\n",
       "      <td>0</td>\n",
       "    </tr>\n",
       "    <tr>\n",
       "      <th>678</th>\n",
       "      <td>979</td>\n",
       "      <td>blazing</td>\n",
       "      <td>Dallas, TX</td>\n",
       "      <td>Bright &amp;amp; BLAZING Fireman Birthday Party ht...</td>\n",
       "      <td>0</td>\n",
       "    </tr>\n",
       "  </tbody>\n",
       "</table>\n",
       "</div>"
      ],
      "text/plain": [
       "         id                keyword          location  \\\n",
       "5750   8210                   riot       Detroit, MI   \n",
       "7095  10164        violent%20storm  Watertown, Mass.   \n",
       "1330   1921    burning%20buildings    Sacramento, CA   \n",
       "6424   9185       suicide%20bomber           nigeria   \n",
       "2182   3126                 debris               NaN   \n",
       "6283   8974                  storm         pittsboro   \n",
       "5385   7685                  panic               NaN   \n",
       "5536   7897  radiation%20emergency               NaN   \n",
       "4726   6722                   lava           Jakarta   \n",
       "678     979                blazing        Dallas, TX   \n",
       "\n",
       "                                                   text  target  \n",
       "5750  To All The Meat-Loving Feminists Of The World ...       0  \n",
       "7095  Violent Storm Causes Damage Flooding in Watert...       1  \n",
       "1330  Killing Black Babies at Planned Parenthood whe...       1  \n",
       "6424  Suicide Bomber Kills More Than a Dozen in Saud...       1  \n",
       "2182  #??? #?? #??? #??? MH370: Aircraft debris foun...       1  \n",
       "6283                               Ready for this storm       1  \n",
       "5385  #dream #magic The #linden method lite version ...       0  \n",
       "5536  I liked a @YouTube video http://t.co/V57NUgmGK...       1  \n",
       "4726  @YoungHeroesID Lava Blast &amp; Power Red @die...       0  \n",
       "678   Bright &amp; BLAZING Fireman Birthday Party ht...       0  "
      ]
     },
     "execution_count": 12,
     "metadata": {},
     "output_type": "execute_result"
    }
   ],
   "source": [
    "import pandas as pd\n",
    "\n",
    "df_train = pd.read_csv('input/train.csv')\n",
    "df_train.sample(10)\n"
   ]
  },
  {
   "cell_type": "code",
   "execution_count": 10,
   "id": "15654e06",
   "metadata": {},
   "outputs": [
    {
     "data": {
      "text/html": [
       "<div>\n",
       "<style scoped>\n",
       "    .dataframe tbody tr th:only-of-type {\n",
       "        vertical-align: middle;\n",
       "    }\n",
       "\n",
       "    .dataframe tbody tr th {\n",
       "        vertical-align: top;\n",
       "    }\n",
       "\n",
       "    .dataframe thead th {\n",
       "        text-align: right;\n",
       "    }\n",
       "</style>\n",
       "<table border=\"1\" class=\"dataframe\">\n",
       "  <thead>\n",
       "    <tr style=\"text-align: right;\">\n",
       "      <th></th>\n",
       "      <th>id</th>\n",
       "      <th>keyword</th>\n",
       "      <th>location</th>\n",
       "      <th>text</th>\n",
       "    </tr>\n",
       "  </thead>\n",
       "  <tbody>\n",
       "    <tr>\n",
       "      <th>778</th>\n",
       "      <td>2567</td>\n",
       "      <td>crash</td>\n",
       "      <td>Austin, TX</td>\n",
       "      <td>lol at the guy whipping by me on a double yell...</td>\n",
       "    </tr>\n",
       "    <tr>\n",
       "      <th>94</th>\n",
       "      <td>319</td>\n",
       "      <td>annihilated</td>\n",
       "      <td>NaN</td>\n",
       "      <td>@jacksfilms #yiayplan well first we strike dre...</td>\n",
       "    </tr>\n",
       "    <tr>\n",
       "      <th>165</th>\n",
       "      <td>545</td>\n",
       "      <td>army</td>\n",
       "      <td>Mexico! ^_^</td>\n",
       "      <td>5 Seconds of Summer Is my pick for http://t.co...</td>\n",
       "    </tr>\n",
       "    <tr>\n",
       "      <th>632</th>\n",
       "      <td>2062</td>\n",
       "      <td>casualty</td>\n",
       "      <td>Canada | #LUX</td>\n",
       "      <td>@Rx_Casualty @Vpzedd @Daintt_M call</td>\n",
       "    </tr>\n",
       "    <tr>\n",
       "      <th>2220</th>\n",
       "      <td>7411</td>\n",
       "      <td>obliterated</td>\n",
       "      <td>MIA</td>\n",
       "      <td>Shout out to fishtails your .75 cent natty lig...</td>\n",
       "    </tr>\n",
       "    <tr>\n",
       "      <th>2835</th>\n",
       "      <td>9412</td>\n",
       "      <td>survivors</td>\n",
       "      <td>Orlando</td>\n",
       "      <td>#orlando Survivors of Shanghai Ghetto reunite ...</td>\n",
       "    </tr>\n",
       "    <tr>\n",
       "      <th>1687</th>\n",
       "      <td>5701</td>\n",
       "      <td>floods</td>\n",
       "      <td>Guayaquil, Ecuador</td>\n",
       "      <td>I'm so dried out in this desert let me know I ...</td>\n",
       "    </tr>\n",
       "    <tr>\n",
       "      <th>2464</th>\n",
       "      <td>8229</td>\n",
       "      <td>riot</td>\n",
       "      <td>NYC</td>\n",
       "      <td>Matt Baume Digs Into the the Controversial Û÷...</td>\n",
       "    </tr>\n",
       "    <tr>\n",
       "      <th>1927</th>\n",
       "      <td>6498</td>\n",
       "      <td>injuries</td>\n",
       "      <td>North Carolina</td>\n",
       "      <td>@RVacchianoNYDN @NYDNSports glad to see a care...</td>\n",
       "    </tr>\n",
       "    <tr>\n",
       "      <th>1327</th>\n",
       "      <td>4380</td>\n",
       "      <td>earthquake</td>\n",
       "      <td>NaN</td>\n",
       "      <td>5.3 #Earthquake in South Of Fiji Islands. #iPh...</td>\n",
       "    </tr>\n",
       "  </tbody>\n",
       "</table>\n",
       "</div>"
      ],
      "text/plain": [
       "        id      keyword            location  \\\n",
       "778   2567        crash          Austin, TX   \n",
       "94     319  annihilated                 NaN   \n",
       "165    545         army         Mexico! ^_^   \n",
       "632   2062     casualty       Canada | #LUX   \n",
       "2220  7411  obliterated                 MIA   \n",
       "2835  9412    survivors             Orlando   \n",
       "1687  5701       floods  Guayaquil, Ecuador   \n",
       "2464  8229         riot                 NYC   \n",
       "1927  6498     injuries      North Carolina   \n",
       "1327  4380   earthquake                 NaN   \n",
       "\n",
       "                                                   text  \n",
       "778   lol at the guy whipping by me on a double yell...  \n",
       "94    @jacksfilms #yiayplan well first we strike dre...  \n",
       "165   5 Seconds of Summer Is my pick for http://t.co...  \n",
       "632                 @Rx_Casualty @Vpzedd @Daintt_M call  \n",
       "2220  Shout out to fishtails your .75 cent natty lig...  \n",
       "2835  #orlando Survivors of Shanghai Ghetto reunite ...  \n",
       "1687  I'm so dried out in this desert let me know I ...  \n",
       "2464  Matt Baume Digs Into the the Controversial Û÷...  \n",
       "1927  @RVacchianoNYDN @NYDNSports glad to see a care...  \n",
       "1327  5.3 #Earthquake in South Of Fiji Islands. #iPh...  "
      ]
     },
     "execution_count": 10,
     "metadata": {},
     "output_type": "execute_result"
    }
   ],
   "source": [
    "df_test = pd.read_csv('input/test.csv')\n",
    "df_test.sample(10)"
   ]
  },
  {
   "cell_type": "markdown",
   "id": "d2210171",
   "metadata": {},
   "source": [
    "Great, the training data contains 5 columns, id, keyword, location, text and target. The test file (needed for the final submission only misses the target column, which is as expected. Let's see which columns we can use by exploring them."
   ]
  },
  {
   "cell_type": "code",
   "execution_count": 13,
   "id": "f717359e",
   "metadata": {},
   "outputs": [
    {
     "data": {
      "text/plain": [
       "id             0\n",
       "keyword       61\n",
       "location    2533\n",
       "text           0\n",
       "target         0\n",
       "dtype: int64"
      ]
     },
     "execution_count": 13,
     "metadata": {},
     "output_type": "execute_result"
    }
   ],
   "source": [
    "df_train.isna().sum()"
   ]
  },
  {
   "cell_type": "code",
   "execution_count": 14,
   "id": "ee3d7b23",
   "metadata": {},
   "outputs": [
    {
     "data": {
      "text/plain": [
       "id             0\n",
       "keyword       26\n",
       "location    1105\n",
       "text           0\n",
       "dtype: int64"
      ]
     },
     "execution_count": 14,
     "metadata": {},
     "output_type": "execute_result"
    }
   ],
   "source": [
    "df_test.isna().sum()"
   ]
  },
  {
   "cell_type": "code",
   "execution_count": 15,
   "id": "348e36b2",
   "metadata": {},
   "outputs": [
    {
     "data": {
      "text/plain": [
       "(7613, 5)"
      ]
     },
     "execution_count": 15,
     "metadata": {},
     "output_type": "execute_result"
    }
   ],
   "source": [
    "df_train.shape"
   ]
  },
  {
   "cell_type": "code",
   "execution_count": 16,
   "id": "3cb39eaf",
   "metadata": {},
   "outputs": [
    {
     "data": {
      "text/plain": [
       "(3263, 4)"
      ]
     },
     "execution_count": 16,
     "metadata": {},
     "output_type": "execute_result"
    }
   ],
   "source": [
    "df_test.shape"
   ]
  },
  {
   "cell_type": "markdown",
   "id": "1c043ea6",
   "metadata": {},
   "source": [
    "So, roughly 1/3 of the entries do not contain a location, which makes this column not suitable as input for a classifier. The keyword is not missing that often, but we have to see if the keyword is meaningful enough to keep as a feature (and drop the rows with missing keywords)."
   ]
  },
  {
   "cell_type": "code",
   "execution_count": 23,
   "id": "153b6864",
   "metadata": {},
   "outputs": [
    {
     "name": "stdout",
     "output_type": "stream",
     "text": [
      "Total number of entries=7613, Unique ids=7613, unique keywords=222, unique locations=3342\n"
     ]
    }
   ],
   "source": [
    "print('Total number of entries={}, Unique ids={}, unique keywords={}, unique locations={}'.format(len(df_train),len(df_train.id.unique()),len(df_train.keyword.unique()),len(df_train.location.unique())))"
   ]
  },
  {
   "cell_type": "code",
   "execution_count": 34,
   "id": "b18cb0e8",
   "metadata": {},
   "outputs": [
    {
     "data": {
      "text/plain": [
       "keyword     target\n",
       "ablaze      0         23\n",
       "            1         13\n",
       "accident    1         24\n",
       "            0         11\n",
       "aftershock  0         34\n",
       "                      ..\n",
       "wreck       0         30\n",
       "            1          7\n",
       "wreckage    1         39\n",
       "wrecked     0         36\n",
       "            1          3\n",
       "Length: 438, dtype: int64"
      ]
     },
     "execution_count": 34,
     "metadata": {},
     "output_type": "execute_result"
    }
   ],
   "source": [
    "df_train[['keyword','target']].groupby('keyword').value_counts()"
   ]
  },
  {
   "cell_type": "code",
   "execution_count": null,
   "id": "aefc0b56",
   "metadata": {},
   "outputs": [],
   "source": []
  }
 ],
 "metadata": {
  "kernelspec": {
   "display_name": "Python 3 (ipykernel)",
   "language": "python",
   "name": "python3"
  },
  "language_info": {
   "codemirror_mode": {
    "name": "ipython",
    "version": 3
   },
   "file_extension": ".py",
   "mimetype": "text/x-python",
   "name": "python",
   "nbconvert_exporter": "python",
   "pygments_lexer": "ipython3",
   "version": "3.9.7"
  }
 },
 "nbformat": 4,
 "nbformat_minor": 5
}
